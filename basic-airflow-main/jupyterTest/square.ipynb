{
 "cells": [
  {
   "cell_type": "code",
   "execution_count": 17,
   "metadata": {},
   "outputs": [
    {
     "ename": "ModuleNotFoundError",
     "evalue": "No module named 'config'",
     "output_type": "error",
     "traceback": [
      "\u001b[1;31m---------------------------------------------------------------------------\u001b[0m",
      "\u001b[1;31mModuleNotFoundError\u001b[0m                       Traceback (most recent call last)",
      "Cell \u001b[1;32mIn[17], line 5\u001b[0m\n\u001b[0;32m      3\u001b[0m sys\u001b[38;5;241m.\u001b[39mpath\u001b[38;5;241m.\u001b[39mappend(\u001b[38;5;124m'\u001b[39m\u001b[38;5;124m/BopsBakes/basic-airflow-main\u001b[39m\u001b[38;5;124m'\u001b[39m)\n\u001b[0;32m      4\u001b[0m \u001b[38;5;28;01mfrom\u001b[39;00m \u001b[38;5;21;01msquare\u001b[39;00m\u001b[38;5;21;01m.\u001b[39;00m\u001b[38;5;21;01mclient\u001b[39;00m \u001b[38;5;28;01mimport\u001b[39;00m Client\n\u001b[1;32m----> 5\u001b[0m \u001b[38;5;28;01mimport\u001b[39;00m \u001b[38;5;21;01mconfig\u001b[39;00m\n\u001b[0;32m      6\u001b[0m \u001b[38;5;28;01mfrom\u001b[39;00m \u001b[38;5;21;01msquare\u001b[39;00m\u001b[38;5;21;01m.\u001b[39;00m\u001b[38;5;21;01mhttp\u001b[39;00m\u001b[38;5;21;01m.\u001b[39;00m\u001b[38;5;21;01mauth\u001b[39;00m\u001b[38;5;21;01m.\u001b[39;00m\u001b[38;5;21;01mo_auth_2\u001b[39;00m \u001b[38;5;28;01mimport\u001b[39;00m BearerAuthCredentials\n\u001b[0;32m      8\u001b[0m client \u001b[38;5;241m=\u001b[39m Client(\n\u001b[0;32m      9\u001b[0m     bearer_auth_credentials\u001b[38;5;241m=\u001b[39mBearerAuthCredentials(\n\u001b[0;32m     10\u001b[0m         access_token\u001b[38;5;241m=\u001b[39mconfig\u001b[38;5;241m.\u001b[39msquare_access_token\n\u001b[0;32m     11\u001b[0m     ),\n\u001b[0;32m     12\u001b[0m     environment\u001b[38;5;241m=\u001b[39mconfig\u001b[38;5;241m.\u001b[39msquare_environment,\n\u001b[0;32m     13\u001b[0m )\n",
      "\u001b[1;31mModuleNotFoundError\u001b[0m: No module named 'config'"
     ]
    }
   ],
   "source": [
    "import os\n",
    "from square.client import Client\n",
    "import config\n",
    "from square.http.auth.o_auth_2 import BearerAuthCredentials\n",
    "\n",
    "client = Client(\n",
    "    bearer_auth_credentials=BearerAuthCredentials(\n",
    "        access_token=config.square_access_token\n",
    "    ),\n",
    "    environment=config.square_environment,\n",
    ")\n"
   ]
  }
 ],
 "metadata": {
  "kernelspec": {
   "display_name": "Python 3",
   "language": "python",
   "name": "python3"
  },
  "language_info": {
   "codemirror_mode": {
    "name": "ipython",
    "version": 3
   },
   "file_extension": ".py",
   "mimetype": "text/x-python",
   "name": "python",
   "nbconvert_exporter": "python",
   "pygments_lexer": "ipython3",
   "version": "3.11.4"
  }
 },
 "nbformat": 4,
 "nbformat_minor": 2
}
