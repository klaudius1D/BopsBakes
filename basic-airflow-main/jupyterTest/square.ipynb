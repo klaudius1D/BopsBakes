{
 "cells": [
  {
   "cell_type": "code",
   "execution_count": 7,
   "metadata": {},
   "outputs": [],
   "source": [
    "import pandas as pd\n",
    "import requests\n",
    "import os\n",
    "from square.client import Client\n",
    "import config\n",
    "import psycopg2\n",
    "from square.http.auth.o_auth_2 import BearerAuthCredentials\n",
    "\n",
    "\n",
    "client = Client(\n",
    "    bearer_auth_credentials=BearerAuthCredentials(\n",
    "        access_token=config.square_access_token\n",
    "    ),\n",
    "    environment=config.square_environment,\n",
    ")\n"
   ]
  },
  {
   "cell_type": "code",
   "execution_count": 10,
   "metadata": {},
   "outputs": [],
   "source": [
    "result = client.payments.list_payments(\n",
    "    begin_time=\"2023-01-01T12:00:00Z\",\n",
    "    sort_order=\"desc\",\n",
    "    location_id=\"LMFGQ336T5DF1\",\n",
    ")\n",
    "\n",
    "if result.is_success():\n",
    "    data = result.body.get('payments',[])\n",
    "    df = pd.json_normalize(data)\n",
    "else:\n",
    "    print(f\"Unable to fetch data: {result.status_code}\")"
   ]
  },
  {
   "cell_type": "markdown",
   "metadata": {},
   "source": [
    "API returns JSON arrays, need to figure out how to read these"
   ]
  },
  {
   "cell_type": "code",
   "execution_count": 9,
   "metadata": {},
   "outputs": [
    {
     "name": "stdout",
     "output_type": "stream",
     "text": [
      "<class 'pandas.core.frame.DataFrame'>\n",
      "RangeIndex: 100 entries, 0 to 99\n",
      "Data columns (total 57 columns):\n",
      " #   Column                                                Non-Null Count  Dtype  \n",
      "---  ------                                                --------------  -----  \n",
      " 0   id                                                    100 non-null    object \n",
      " 1   created_at                                            100 non-null    object \n",
      " 2   updated_at                                            100 non-null    object \n",
      " 3   status                                                100 non-null    object \n",
      " 4   source_type                                           100 non-null    object \n",
      " 5   location_id                                           100 non-null    object \n",
      " 6   order_id                                              100 non-null    object \n",
      " 7   processing_fee                                        44 non-null     object \n",
      " 8   customer_id                                           3 non-null      object \n",
      " 9   employee_id                                           3 non-null      object \n",
      " 10  receipt_number                                        99 non-null     object \n",
      " 11  receipt_url                                           99 non-null     object \n",
      " 12  team_member_id                                        3 non-null      object \n",
      " 13  version_token                                         100 non-null    object \n",
      " 14  amount_money.amount                                   100 non-null    int64  \n",
      " 15  amount_money.currency                                 100 non-null    object \n",
      " 16  card_details.status                                   45 non-null     object \n",
      " 17  card_details.card.card_brand                          45 non-null     object \n",
      " 18  card_details.card.last_4                              45 non-null     object \n",
      " 19  card_details.card.exp_month                           45 non-null     float64\n",
      " 20  card_details.card.exp_year                            45 non-null     float64\n",
      " 21  card_details.card.fingerprint                         45 non-null     object \n",
      " 22  card_details.card.card_type                           45 non-null     object \n",
      " 23  card_details.card.prepaid_type                        45 non-null     object \n",
      " 24  card_details.card.bin                                 45 non-null     object \n",
      " 25  card_details.entry_method                             45 non-null     object \n",
      " 26  card_details.cvv_status                               45 non-null     object \n",
      " 27  card_details.avs_status                               45 non-null     object \n",
      " 28  card_details.auth_result_code                         44 non-null     object \n",
      " 29  card_details.statement_description                    45 non-null     object \n",
      " 30  card_details.card_payment_timeline.authorized_at      45 non-null     object \n",
      " 31  card_details.card_payment_timeline.captured_at        44 non-null     object \n",
      " 32  total_money.amount                                    100 non-null    int64  \n",
      " 33  total_money.currency                                  100 non-null    object \n",
      " 34  approved_money.amount                                 45 non-null     float64\n",
      " 35  approved_money.currency                               45 non-null     object \n",
      " 36  application_details.square_product                    100 non-null    object \n",
      " 37  application_details.application_id                    3 non-null      object \n",
      " 38  cash_details.buyer_supplied_money.amount              55 non-null     float64\n",
      " 39  cash_details.buyer_supplied_money.currency            55 non-null     object \n",
      " 40  cash_details.change_back_money.amount                 55 non-null     float64\n",
      " 41  cash_details.change_back_money.currency               55 non-null     object \n",
      " 42  device_details.device_id                              97 non-null     object \n",
      " 43  device_details.device_name                            97 non-null     object \n",
      " 44  device_details.device_installation_id                 97 non-null     object \n",
      " 45  card_details.card.cardholder_name                     24 non-null     object \n",
      " 46  card_details.application_identifier                   42 non-null     object \n",
      " 47  card_details.application_name                         42 non-null     object \n",
      " 48  card_details.application_cryptogram                   42 non-null     object \n",
      " 49  card_details.verification_method                      42 non-null     object \n",
      " 50  card_details.verification_results                     42 non-null     object \n",
      " 51  card_details.device_details.device_id                 42 non-null     object \n",
      " 52  card_details.device_details.device_name               42 non-null     object \n",
      " 53  card_details.device_details.device_installation_id    42 non-null     object \n",
      " 54  card_details.refund_requires_card_presence            19 non-null     object \n",
      " 55  card_details.emv_details.authorization_response_code  23 non-null     object \n",
      " 56  card_details.errors                                   1 non-null      object \n",
      "dtypes: float64(5), int64(2), object(50)\n",
      "memory usage: 44.7+ KB\n"
     ]
    }
   ],
   "source": [
    "df.info(verbose=True)"
   ]
  }
 ],
 "metadata": {
  "kernelspec": {
   "display_name": "Python 3",
   "language": "python",
   "name": "python3"
  },
  "language_info": {
   "codemirror_mode": {
    "name": "ipython",
    "version": 3
   },
   "file_extension": ".py",
   "mimetype": "text/x-python",
   "name": "python",
   "nbconvert_exporter": "python",
   "pygments_lexer": "ipython3",
   "version": "3.11.4"
  }
 },
 "nbformat": 4,
 "nbformat_minor": 2
}
